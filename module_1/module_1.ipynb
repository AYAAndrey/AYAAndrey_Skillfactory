{
 "cells": [
  {
   "cell_type": "code",
   "execution_count": 222,
   "metadata": {
    "_cell_guid": "b1076dfc-b9ad-4769-8c92-a6c4dae69d19",
    "_uuid": "8f2839f25d086af736a60e9eeb907d3b93b6e0e5",
    "colab": {},
    "colab_type": "code",
    "id": "U2D2gTdJVp90"
   },
   "outputs": [],
   "source": [
    "import numpy as np\n",
    "import pandas as pd\n",
    "import seaborn as sns\n",
    "import matplotlib.pyplot as plt\n",
    "from collections import Counter"
   ]
  },
  {
   "cell_type": "code",
   "execution_count": 248,
   "metadata": {
    "_cell_guid": "79c7e3d0-c299-4dcb-8224-4455121ee9b0",
    "_uuid": "d629ff2d2480ee46fbb7e2d37f6b5fab8052498a",
    "colab": {},
    "colab_type": "code",
    "id": "oyGfxL3eVp9-"
   },
   "outputs": [
    {
     "data": {
      "text/html": [
       "<div>\n",
       "<style scoped>\n",
       "    .dataframe tbody tr th:only-of-type {\n",
       "        vertical-align: middle;\n",
       "    }\n",
       "\n",
       "    .dataframe tbody tr th {\n",
       "        vertical-align: top;\n",
       "    }\n",
       "\n",
       "    .dataframe thead th {\n",
       "        text-align: right;\n",
       "    }\n",
       "</style>\n",
       "<table border=\"1\" class=\"dataframe\">\n",
       "  <thead>\n",
       "    <tr style=\"text-align: right;\">\n",
       "      <th></th>\n",
       "      <th>imdb_id</th>\n",
       "      <th>budget</th>\n",
       "      <th>revenue</th>\n",
       "      <th>original_title</th>\n",
       "      <th>cast</th>\n",
       "      <th>director</th>\n",
       "      <th>tagline</th>\n",
       "      <th>overview</th>\n",
       "      <th>runtime</th>\n",
       "      <th>genres</th>\n",
       "      <th>production_companies</th>\n",
       "      <th>release_date</th>\n",
       "      <th>vote_average</th>\n",
       "      <th>release_year</th>\n",
       "    </tr>\n",
       "  </thead>\n",
       "  <tbody>\n",
       "    <tr>\n",
       "      <th>1014</th>\n",
       "      <td>tt0401729</td>\n",
       "      <td>260000000</td>\n",
       "      <td>284139100</td>\n",
       "      <td>John Carter</td>\n",
       "      <td>Taylor Kitsch|Lynn Collins|Mark Strong|Willem ...</td>\n",
       "      <td>Andrew Stanton</td>\n",
       "      <td>Lost in Our World. Found in Another.</td>\n",
       "      <td>Civil War vet John Carter is transplanted to M...</td>\n",
       "      <td>132</td>\n",
       "      <td>Action|Adventure|Fantasy|Science Fiction</td>\n",
       "      <td>Walt Disney Pictures</td>\n",
       "      <td>3/7/2012</td>\n",
       "      <td>6.0</td>\n",
       "      <td>2012</td>\n",
       "    </tr>\n",
       "    <tr>\n",
       "      <th>1854</th>\n",
       "      <td>tt0158622</td>\n",
       "      <td>83000000</td>\n",
       "      <td>59468275</td>\n",
       "      <td>The Flintstones in Viva Rock Vegas</td>\n",
       "      <td>Mark Addy|Stephen Baldwin|Kristen Johnston|Jan...</td>\n",
       "      <td>Brian Levant</td>\n",
       "      <td>Get ready to rock!</td>\n",
       "      <td>The Flintstones are at it again. The Flintston...</td>\n",
       "      <td>90</td>\n",
       "      <td>Science Fiction|Comedy|Family|Romance</td>\n",
       "      <td>Universal Pictures|Amblin Entertainment</td>\n",
       "      <td>4/28/2000</td>\n",
       "      <td>4.4</td>\n",
       "      <td>2000</td>\n",
       "    </tr>\n",
       "    <tr>\n",
       "      <th>1876</th>\n",
       "      <td>tt0144964</td>\n",
       "      <td>25000000</td>\n",
       "      <td>15843608</td>\n",
       "      <td>Highlander: Endgame</td>\n",
       "      <td>Christopher Lambert|Bruce Payne|Adrian Paul|Do...</td>\n",
       "      <td>Douglas Aarniokoski</td>\n",
       "      <td>It will take two immortals to defeat the ultim...</td>\n",
       "      <td>Immortals Connor and Duncan Macleod join force...</td>\n",
       "      <td>87</td>\n",
       "      <td>Action|Fantasy|Science Fiction</td>\n",
       "      <td>Davis-Panzer Productions|Dimension Films</td>\n",
       "      <td>9/1/2000</td>\n",
       "      <td>4.3</td>\n",
       "      <td>2000</td>\n",
       "    </tr>\n",
       "    <tr>\n",
       "      <th>470</th>\n",
       "      <td>tt0815236</td>\n",
       "      <td>20000000</td>\n",
       "      <td>49779728</td>\n",
       "      <td>She's Out of My League</td>\n",
       "      <td>Alice Eve|Jay Baruchel|Mike Vogel|Krysten Ritt...</td>\n",
       "      <td>Jim Field Smith</td>\n",
       "      <td>When she's this hot, You get one shot.</td>\n",
       "      <td>When he starts dating drop-dead gorgeous Molly...</td>\n",
       "      <td>104</td>\n",
       "      <td>Comedy|Romance</td>\n",
       "      <td>DreamWorks SKG|Mosaic</td>\n",
       "      <td>3/11/2010</td>\n",
       "      <td>5.9</td>\n",
       "      <td>2010</td>\n",
       "    </tr>\n",
       "    <tr>\n",
       "      <th>326</th>\n",
       "      <td>tt1179891</td>\n",
       "      <td>15000000</td>\n",
       "      <td>100734718</td>\n",
       "      <td>My Bloody Valentine</td>\n",
       "      <td>Jensen Ackles|Jaime King|Kerr Smith|Betsy Rue|...</td>\n",
       "      <td>Patrick Lussier</td>\n",
       "      <td>He's gonna break your heart.</td>\n",
       "      <td>Ten years ago, a tragedy changed the town of H...</td>\n",
       "      <td>101</td>\n",
       "      <td>Mystery|Horror</td>\n",
       "      <td>Lionsgate</td>\n",
       "      <td>1/16/2009</td>\n",
       "      <td>5.3</td>\n",
       "      <td>2009</td>\n",
       "    </tr>\n",
       "  </tbody>\n",
       "</table>\n",
       "</div>"
      ],
      "text/plain": [
       "        imdb_id     budget    revenue                      original_title  \\\n",
       "1014  tt0401729  260000000  284139100                         John Carter   \n",
       "1854  tt0158622   83000000   59468275  The Flintstones in Viva Rock Vegas   \n",
       "1876  tt0144964   25000000   15843608                 Highlander: Endgame   \n",
       "470   tt0815236   20000000   49779728              She's Out of My League   \n",
       "326   tt1179891   15000000  100734718                 My Bloody Valentine   \n",
       "\n",
       "                                                   cast             director  \\\n",
       "1014  Taylor Kitsch|Lynn Collins|Mark Strong|Willem ...       Andrew Stanton   \n",
       "1854  Mark Addy|Stephen Baldwin|Kristen Johnston|Jan...         Brian Levant   \n",
       "1876  Christopher Lambert|Bruce Payne|Adrian Paul|Do...  Douglas Aarniokoski   \n",
       "470   Alice Eve|Jay Baruchel|Mike Vogel|Krysten Ritt...      Jim Field Smith   \n",
       "326   Jensen Ackles|Jaime King|Kerr Smith|Betsy Rue|...      Patrick Lussier   \n",
       "\n",
       "                                                tagline  \\\n",
       "1014               Lost in Our World. Found in Another.   \n",
       "1854                                 Get ready to rock!   \n",
       "1876  It will take two immortals to defeat the ultim...   \n",
       "470              When she's this hot, You get one shot.   \n",
       "326                        He's gonna break your heart.   \n",
       "\n",
       "                                               overview  runtime  \\\n",
       "1014  Civil War vet John Carter is transplanted to M...      132   \n",
       "1854  The Flintstones are at it again. The Flintston...       90   \n",
       "1876  Immortals Connor and Duncan Macleod join force...       87   \n",
       "470   When he starts dating drop-dead gorgeous Molly...      104   \n",
       "326   Ten years ago, a tragedy changed the town of H...      101   \n",
       "\n",
       "                                        genres  \\\n",
       "1014  Action|Adventure|Fantasy|Science Fiction   \n",
       "1854     Science Fiction|Comedy|Family|Romance   \n",
       "1876            Action|Fantasy|Science Fiction   \n",
       "470                             Comedy|Romance   \n",
       "326                             Mystery|Horror   \n",
       "\n",
       "                          production_companies release_date  vote_average  \\\n",
       "1014                      Walt Disney Pictures     3/7/2012           6.0   \n",
       "1854   Universal Pictures|Amblin Entertainment    4/28/2000           4.4   \n",
       "1876  Davis-Panzer Productions|Dimension Films     9/1/2000           4.3   \n",
       "470                      DreamWorks SKG|Mosaic    3/11/2010           5.9   \n",
       "326                                  Lionsgate    1/16/2009           5.3   \n",
       "\n",
       "      release_year  \n",
       "1014          2012  \n",
       "1854          2000  \n",
       "1876          2000  \n",
       "470           2010  \n",
       "326           2009  "
      ]
     },
     "execution_count": 248,
     "metadata": {},
     "output_type": "execute_result"
    }
   ],
   "source": [
    "data = pd.read_csv('movie_bd_v5.csv')\n",
    "data.sample(5)"
   ]
  },
  {
   "cell_type": "code",
   "execution_count": 123,
   "metadata": {
    "colab": {},
    "colab_type": "code",
    "id": "CoYUnagMVp-C"
   },
   "outputs": [
    {
     "data": {
      "text/html": [
       "<div>\n",
       "<style scoped>\n",
       "    .dataframe tbody tr th:only-of-type {\n",
       "        vertical-align: middle;\n",
       "    }\n",
       "\n",
       "    .dataframe tbody tr th {\n",
       "        vertical-align: top;\n",
       "    }\n",
       "\n",
       "    .dataframe thead th {\n",
       "        text-align: right;\n",
       "    }\n",
       "</style>\n",
       "<table border=\"1\" class=\"dataframe\">\n",
       "  <thead>\n",
       "    <tr style=\"text-align: right;\">\n",
       "      <th></th>\n",
       "      <th>budget</th>\n",
       "      <th>revenue</th>\n",
       "      <th>runtime</th>\n",
       "      <th>vote_average</th>\n",
       "      <th>release_year</th>\n",
       "    </tr>\n",
       "  </thead>\n",
       "  <tbody>\n",
       "    <tr>\n",
       "      <th>count</th>\n",
       "      <td>1.889000e+03</td>\n",
       "      <td>1.889000e+03</td>\n",
       "      <td>1889.000000</td>\n",
       "      <td>1889.000000</td>\n",
       "      <td>1889.000000</td>\n",
       "    </tr>\n",
       "    <tr>\n",
       "      <th>mean</th>\n",
       "      <td>5.431083e+07</td>\n",
       "      <td>1.553653e+08</td>\n",
       "      <td>109.658549</td>\n",
       "      <td>6.140762</td>\n",
       "      <td>2007.860773</td>\n",
       "    </tr>\n",
       "    <tr>\n",
       "      <th>std</th>\n",
       "      <td>4.858721e+07</td>\n",
       "      <td>2.146698e+08</td>\n",
       "      <td>18.017041</td>\n",
       "      <td>0.764763</td>\n",
       "      <td>4.468841</td>\n",
       "    </tr>\n",
       "    <tr>\n",
       "      <th>min</th>\n",
       "      <td>5.000000e+06</td>\n",
       "      <td>2.033165e+06</td>\n",
       "      <td>63.000000</td>\n",
       "      <td>3.300000</td>\n",
       "      <td>2000.000000</td>\n",
       "    </tr>\n",
       "    <tr>\n",
       "      <th>25%</th>\n",
       "      <td>2.000000e+07</td>\n",
       "      <td>3.456058e+07</td>\n",
       "      <td>97.000000</td>\n",
       "      <td>5.600000</td>\n",
       "      <td>2004.000000</td>\n",
       "    </tr>\n",
       "    <tr>\n",
       "      <th>50%</th>\n",
       "      <td>3.800000e+07</td>\n",
       "      <td>8.361541e+07</td>\n",
       "      <td>107.000000</td>\n",
       "      <td>6.100000</td>\n",
       "      <td>2008.000000</td>\n",
       "    </tr>\n",
       "    <tr>\n",
       "      <th>75%</th>\n",
       "      <td>7.200000e+07</td>\n",
       "      <td>1.782626e+08</td>\n",
       "      <td>120.000000</td>\n",
       "      <td>6.600000</td>\n",
       "      <td>2012.000000</td>\n",
       "    </tr>\n",
       "    <tr>\n",
       "      <th>max</th>\n",
       "      <td>3.800000e+08</td>\n",
       "      <td>2.781506e+09</td>\n",
       "      <td>214.000000</td>\n",
       "      <td>8.100000</td>\n",
       "      <td>2015.000000</td>\n",
       "    </tr>\n",
       "  </tbody>\n",
       "</table>\n",
       "</div>"
      ],
      "text/plain": [
       "             budget       revenue      runtime  vote_average  release_year\n",
       "count  1.889000e+03  1.889000e+03  1889.000000   1889.000000   1889.000000\n",
       "mean   5.431083e+07  1.553653e+08   109.658549      6.140762   2007.860773\n",
       "std    4.858721e+07  2.146698e+08    18.017041      0.764763      4.468841\n",
       "min    5.000000e+06  2.033165e+06    63.000000      3.300000   2000.000000\n",
       "25%    2.000000e+07  3.456058e+07    97.000000      5.600000   2004.000000\n",
       "50%    3.800000e+07  8.361541e+07   107.000000      6.100000   2008.000000\n",
       "75%    7.200000e+07  1.782626e+08   120.000000      6.600000   2012.000000\n",
       "max    3.800000e+08  2.781506e+09   214.000000      8.100000   2015.000000"
      ]
     },
     "execution_count": 123,
     "metadata": {},
     "output_type": "execute_result"
    }
   ],
   "source": [
    "data.describe()"
   ]
  },
  {
   "cell_type": "markdown",
   "metadata": {
    "colab_type": "text",
    "id": "DTIt7ezGVp-G"
   },
   "source": [
    "# Предобработка"
   ]
  },
  {
   "cell_type": "code",
   "execution_count": 295,
   "metadata": {
    "colab": {},
    "colab_type": "code",
    "id": "jNb40DwKVp-H"
   },
   "outputs": [
    {
     "name": "stdout",
     "output_type": "stream",
     "text": [
      "('1. Самый большой бюджет:', 'Pirates of the Caribbean: On Stranger Tides')\n",
      "('2. Самый длинный (в минутах) фильм:', 'Gods and Generals')\n",
      "('3. Самый короткий (в минутах) фильм:', 'Winnie the Pooh')\n",
      "('4. Средняя длительность фильмов (в минутах):', '110')\n",
      "('5. Медианное значение длительности фильмов(в минутах):', '107')\n",
      "('6. Самый прибыльный фильм:', 'Avatar')\n",
      "('7. Самый убыточный фильм:', 'The Lone Ranger')\n",
      "('8. У скольких фильмов из датасета объем сборов оказался выше бюджета?', '1478')\n",
      "('9. Какой фильм оказался самым кассовым в 2008 году?', 'The Dark Knight')\n",
      "('10. Самый убыточный фильм за период с 2012 по 2014 г. (включительно).', 'The Lone Ranger')\n",
      "('11. Какого жанра фильмов больше всего?', 'Drama')\n",
      "('12. Фильмы какого жанра чаще всего становятся прибыльными?', 'Drama')\n",
      "('13. У какого режиссера самые большие суммарные кассовые сборы?', 'Peter Jackson')\n",
      "('14. Какой режисер снял больше всего фильмов в стиле Action?', 'Robert Rodriguez')\n",
      "('15. Фильмы с каким актером принесли самые высокие кассовые сборы в 2012 году?', 'Chris Hemsworth')\n",
      "('16. Какой актер снялся в большем количестве высокобюджетных фильмов?', 'Matt Damon')\n",
      "('17. В фильмах какого жанра больше всего снимался Nicolas Cage?', 'Action')\n",
      "('18. Самый убыточный фильм от Paramount Pictures', 'K-19: The Widowmaker')\n",
      "('19. Какой год стал самым успешным по суммарным кассовым сборам?', '2015    25449202382')\n",
      "('20. Какой самый прибыльный год для студии Warner Bros?', '2014    11407212316')\n",
      "('21. В каком месяце за все годы суммарно вышло больше всего фильмов?', 'Сентябрь')\n",
      "('22. Сколько суммарно вышло фильмов летом? (за июнь, июль, август)', '450')\n",
      "('23. Для какого режиссера зима – самое продуктивное время года?', 'Peter Jackson ')\n",
      "('24. Какая студия дает самые длинные названия своим фильмам по количеству символов?', 'Four By Two Productions')\n",
      "('25. Описание фильмов какой студии в среднем самые длинные по количеству слов?', 'Midnight Picture Show')\n",
      "('26. Какие фильмы входят в 1 процент лучших по рейтингу?', 'Inside Out, The Dark Knight, 12 Years a Slave верно')\n",
      "('27. Какие актеры чаще всего снимаются в одном фильме вместе?', 'Daniel Radcliffe & Rupert Grint')\n"
     ]
    }
   ],
   "source": [
    "answers = {\"1. Самый большой бюджет:\" : 'Pirates of the Caribbean: On Stranger Tides'\n",
    "           , \"2. Самый длинный (в минутах) фильм:\" : 'Gods and Generals'\n",
    "           , \"3. Самый короткий (в минутах) фильм:\" : 'Winnie the Pooh'\n",
    "           , \"4. Средняя длительность фильмов (в минутах):\" : '110'\n",
    "           , \"5. Медианное значение длительности фильмов(в минутах):\" : '107'\n",
    "           , \"6. Самый прибыльный фильм:\" : 'Avatar'\n",
    "           , \"7. Самый убыточный фильм:\" : 'The Lone Ranger'\n",
    "           , \"8. У скольких фильмов из датасета объем сборов оказался выше бюджета?\" : '1478'\n",
    "           , \"9. Какой фильм оказался самым кассовым в 2008 году?\" : 'The Dark Knight'\n",
    "           , \"10. Самый убыточный фильм за период с 2012 по 2014 г. (включительно).\" : 'The Lone Ranger'\n",
    "           , \"11. Какого жанра фильмов больше всего?\" : 'Drama'\n",
    "           , \"12. Фильмы какого жанра чаще всего становятся прибыльными?\" : 'Drama'\n",
    "           , \"13. У какого режиссера самые большие суммарные кассовые сборы?\" : 'Peter Jackson'\n",
    "           , \"14. Какой режисер снял больше всего фильмов в стиле Action?\" : 'Robert Rodriguez'\n",
    "           , \"15. Фильмы с каким актером принесли самые высокие кассовые сборы в 2012 году?\" : 'Chris Hemsworth'\n",
    "           , \"16. Какой актер снялся в большем количестве высокобюджетных фильмов?\" : 'Matt Damon'\n",
    "           , \"17. В фильмах какого жанра больше всего снимался Nicolas Cage?\" : 'Action'\n",
    "           , \"18. Самый убыточный фильм от Paramount Pictures\" : 'K-19: The Widowmaker'\n",
    "           , \"19. Какой год стал самым успешным по суммарным кассовым сборам?\" : '2015    25449202382'\n",
    "           , \"20. Какой самый прибыльный год для студии Warner Bros?\" : '2014    11407212316'\n",
    "           , \"21. В каком месяце за все годы суммарно вышло больше всего фильмов?\" : 'Сентябрь'\n",
    "           , \"22. Сколько суммарно вышло фильмов летом? (за июнь, июль, август)\" : '450'\n",
    "           , \"23. Для какого режиссера зима – самое продуктивное время года?\" : 'Peter Jackson '\n",
    "           , \"24. Какая студия дает самые длинные названия своим фильмам по количеству символов?\" : 'Four By Two Productions'\n",
    "           , \"25. Описание фильмов какой студии в среднем самые длинные по количеству слов?\" : 'Midnight Picture Show'\n",
    "           , \"26. Какие фильмы входят в 1 процент лучших по рейтингу?\" : 'Inside Out, The Dark Knight, 12 Years a Slave верно'\n",
    "           , \"27. Какие актеры чаще всего снимаются в одном фильме вместе?\" : 'Daniel Radcliffe & Rupert Grint'} \n",
    "# создадим словарь для ответов\n",
    "for item in answers.items():\n",
    "    print(item)\n",
    "\n",
    "# тут другие ваши предобработки колонок например:\n",
    "\n",
    "#the time given in the dataset is in string format.\n",
    "#So we need to change this in datetime format\n",
    "# ...\n",
    "\n",
    "# Прибыль: \n",
    "data['profit'] = data['revenue'] - data['budget']\n",
    "\n",
    "# Убыток\n",
    "data['loss'] = data['budget'] - data['revenue']"
   ]
  },
  {
   "cell_type": "markdown",
   "metadata": {
    "colab_type": "text",
    "id": "YxZaH-nPVp-L"
   },
   "source": [
    "# 1. У какого фильма из списка самый большой бюджет?"
   ]
  },
  {
   "cell_type": "markdown",
   "metadata": {
    "colab_type": "text",
    "id": "Nd-G5gX6Vp-M"
   },
   "source": [
    "Использовать варианты ответов в коде решения запрещено.    \n",
    "Вы думаете и в жизни у вас будут варианты ответов?)"
   ]
  },
  {
   "cell_type": "code",
   "execution_count": 6,
   "metadata": {
    "colab": {},
    "colab_type": "code",
    "id": "uVnXAY5RVp-O"
   },
   "outputs": [],
   "source": [
    "# в словарь вставляем номер вопроса и ваш ответ на него\n",
    "# Пример: \n",
    "answers['1'] = '2. Spider-Man 3 (tt0413300)'\n",
    "# запишите свой вариант ответа\n",
    "answers['1'] = '...'\n",
    "# если ответили верно, можете добавить комментарий со значком \"+\""
   ]
  },
  {
   "cell_type": "code",
   "execution_count": 20,
   "metadata": {
    "colab": {},
    "colab_type": "code",
    "id": "dZwb3m28Vp-S"
   },
   "outputs": [
    {
     "data": {
      "text/plain": [
       "'Pirates of the Caribbean: On Stranger Tides'"
      ]
     },
     "execution_count": 20,
     "metadata": {},
     "output_type": "execute_result"
    }
   ],
   "source": [
    "# тут пишем ваш код для решения данного вопроса:\n",
    "data[(data.budget == data.budget.max())].original_title.values[0]"
   ]
  },
  {
   "cell_type": "markdown",
   "metadata": {
    "colab_type": "text",
    "id": "K7L3nbRXVp-X"
   },
   "source": [
    "ВАРИАНТ 2"
   ]
  },
  {
   "cell_type": "code",
   "execution_count": 0,
   "metadata": {
    "colab": {},
    "colab_type": "code",
    "id": "OGaoQI7rVp-X"
   },
   "outputs": [],
   "source": [
    "# можно добавлять разные варианты решения"
   ]
  },
  {
   "cell_type": "markdown",
   "metadata": {
    "colab_type": "text",
    "id": "FNRbbI3vVp-c"
   },
   "source": [
    "# 2. Какой из фильмов самый длительный (в минутах)?"
   ]
  },
  {
   "cell_type": "code",
   "execution_count": 8,
   "metadata": {
    "colab": {},
    "colab_type": "code",
    "id": "vHAoEXNTVp-d"
   },
   "outputs": [],
   "source": [
    "# думаю логику работы с этим словарем вы уже поняли, \n",
    "# по этому не буду больше его дублировать\n",
    "answers['2'] = '...'"
   ]
  },
  {
   "cell_type": "code",
   "execution_count": 19,
   "metadata": {
    "colab": {},
    "colab_type": "code",
    "id": "ot-VX2XrVp-g"
   },
   "outputs": [
    {
     "data": {
      "text/plain": [
       "'Gods and Generals'"
      ]
     },
     "execution_count": 19,
     "metadata": {},
     "output_type": "execute_result"
    }
   ],
   "source": [
    "data[(data.runtime == data.runtime.max())].original_title.values[0]"
   ]
  },
  {
   "cell_type": "markdown",
   "metadata": {
    "colab_type": "text",
    "id": "bapLlpW8Vp-k"
   },
   "source": [
    "# 3. Какой из фильмов самый короткий (в минутах)?\n",
    "\n",
    "\n",
    "\n"
   ]
  },
  {
   "cell_type": "code",
   "execution_count": 125,
   "metadata": {
    "colab": {},
    "colab_type": "code",
    "id": "YBxaSHuAVp-l"
   },
   "outputs": [
    {
     "data": {
      "text/plain": [
       "'Winnie the Pooh'"
      ]
     },
     "execution_count": 125,
     "metadata": {},
     "output_type": "execute_result"
    }
   ],
   "source": [
    "data[(data.runtime == data.runtime.min())].original_title.values[0]"
   ]
  },
  {
   "cell_type": "markdown",
   "metadata": {
    "colab_type": "text",
    "id": "TfQbxbfNVp-p"
   },
   "source": [
    "# 4. Какова средняя длительность фильмов?\n"
   ]
  },
  {
   "cell_type": "code",
   "execution_count": 15,
   "metadata": {
    "colab": {},
    "colab_type": "code",
    "id": "5K6dKZYVVp-q"
   },
   "outputs": [
    {
     "data": {
      "text/plain": [
       "110"
      ]
     },
     "execution_count": 15,
     "metadata": {},
     "output_type": "execute_result"
    }
   ],
   "source": [
    "round(data.runtime.mean(), )  # округляем до целого"
   ]
  },
  {
   "cell_type": "markdown",
   "metadata": {
    "colab_type": "text",
    "id": "r5TvbnT_Vp-u"
   },
   "source": [
    "# 5. Каково медианное значение длительности фильмов? "
   ]
  },
  {
   "cell_type": "code",
   "execution_count": 16,
   "metadata": {
    "colab": {},
    "colab_type": "code",
    "id": "iBROplKnVp-v"
   },
   "outputs": [
    {
     "data": {
      "text/plain": [
       "107"
      ]
     },
     "execution_count": 16,
     "metadata": {},
     "output_type": "execute_result"
    }
   ],
   "source": [
    "round(data.runtime.median(), )  # округляем до целого"
   ]
  },
  {
   "cell_type": "markdown",
   "metadata": {
    "colab_type": "text",
    "id": "39P-deDSVp-y"
   },
   "source": [
    "# 6. Какой самый прибыльный фильм?\n",
    "#### Внимание! Здесь и далее под «прибылью» или «убытками» понимается разность между сборами и бюджетом фильма. (прибыль = сборы - бюджет) в нашем датасете это будет (profit = revenue - budget) "
   ]
  },
  {
   "cell_type": "code",
   "execution_count": 284,
   "metadata": {
    "colab": {},
    "colab_type": "code",
    "id": "UYZh4T9WVp-y"
   },
   "outputs": [
    {
     "data": {
      "text/plain": [
       "'Avatar'"
      ]
     },
     "execution_count": 284,
     "metadata": {},
     "output_type": "execute_result"
    }
   ],
   "source": [
    "# лучше код получения столбца profit вынести в Предобработку что в начале\n",
    "# data['profit'] = data['revenue'] - data['budget']  в ПРЕДОБРАБОТКЕ\n",
    "data[data.profit == data.profit.max()].original_title.values[0]"
   ]
  },
  {
   "cell_type": "markdown",
   "metadata": {
    "colab_type": "text",
    "id": "M99JmIX4Vp-2"
   },
   "source": [
    "# 7. Какой фильм самый убыточный? "
   ]
  },
  {
   "cell_type": "code",
   "execution_count": 285,
   "metadata": {},
   "outputs": [
    {
     "data": {
      "text/plain": [
       "'The Lone Ranger'"
      ]
     },
     "execution_count": 285,
     "metadata": {},
     "output_type": "execute_result"
    }
   ],
   "source": [
    "# 1 Вариант:\n",
    "# data['profit'] = data['revenue'] - data['budget']  в ПРЕДОБРАБОТКЕ\n",
    "data[data.profit == data.profit.min()].original_title.values[0]"
   ]
  },
  {
   "cell_type": "code",
   "execution_count": 286,
   "metadata": {
    "colab": {},
    "colab_type": "code",
    "id": "w-D2m4XPVp-3"
   },
   "outputs": [
    {
     "data": {
      "text/plain": [
       "'The Lone Ranger'"
      ]
     },
     "execution_count": 286,
     "metadata": {},
     "output_type": "execute_result"
    }
   ],
   "source": [
    "# 2 Вариант:\n",
    "# data['loss'] = data['budget'] - data['revenue']   в ПРЕДОБРАБОТКЕ\n",
    "data[data.loss == data.loss.max()].original_title.values[0]"
   ]
  },
  {
   "cell_type": "markdown",
   "metadata": {
    "colab_type": "text",
    "id": "wEOM5ERVVp-6"
   },
   "source": [
    "# 8. У скольких фильмов из датасета объем сборов оказался выше бюджета?"
   ]
  },
  {
   "cell_type": "code",
   "execution_count": 49,
   "metadata": {
    "colab": {},
    "colab_type": "code",
    "id": "y00_7HD6Vp-7"
   },
   "outputs": [
    {
     "data": {
      "text/plain": [
       "1478"
      ]
     },
     "execution_count": 49,
     "metadata": {},
     "output_type": "execute_result"
    }
   ],
   "source": [
    "data[data.revenue > data.budget].original_title.count()"
   ]
  },
  {
   "cell_type": "markdown",
   "metadata": {
    "colab_type": "text",
    "id": "xhpspA9KVp_A"
   },
   "source": [
    "9. Какой фильм оказался самым кассовым в 2008 году?"
   ]
  },
  {
   "cell_type": "code",
   "execution_count": 288,
   "metadata": {
    "colab": {},
    "colab_type": "code",
    "id": "MoUyQr9RVp_B"
   },
   "outputs": [
    {
     "data": {
      "text/plain": [
       "'The Dark Knight'"
      ]
     },
     "execution_count": 288,
     "metadata": {},
     "output_type": "execute_result"
    }
   ],
   "source": [
    "data = pd.read_csv('movie_bd_v5.csv')\n",
    "data9 = data.copy()\n",
    "data9 = data[data.release_year == 2008]  # Оставляем 2008 год\n",
    "revenue_max = year_2008.revenue.max() # находим величину максимального кассового сбора\n",
    "movie = year_2008[year_2008.revenue == max_revenue] # Находим фильм с максимальным сбором\n",
    "movie.original_title.values[0]"
   ]
  },
  {
   "cell_type": "code",
   "execution_count": 52,
   "metadata": {},
   "outputs": [
    {
     "data": {
      "text/plain": [
       "'The Dark Knight'"
      ]
     },
     "execution_count": 52,
     "metadata": {},
     "output_type": "execute_result"
    }
   ],
   "source": [
    "# Короткий вариант\n",
    "year_2008 = data[data.release_year == 2008]\n",
    "year_2008[year_2008.revenue == year_2008.revenue.max()].original_title.values[0]"
   ]
  },
  {
   "cell_type": "markdown",
   "metadata": {
    "colab_type": "text",
    "id": "Zi4hDKidVp_F"
   },
   "source": [
    "# 10. Самый убыточный фильм за период с 2012 по 2014 г. (включительно)?\n"
   ]
  },
  {
   "cell_type": "code",
   "execution_count": 290,
   "metadata": {
    "colab": {},
    "colab_type": "code",
    "id": "XqyRmufJVp_F"
   },
   "outputs": [
    {
     "data": {
      "text/plain": [
       "'The Lone Ranger'"
      ]
     },
     "execution_count": 290,
     "metadata": {},
     "output_type": "execute_result"
    }
   ],
   "source": [
    "data = pd.read_csv('movie_bd_v5.csv')\n",
    "data10 = data.copy()\n",
    "data10 = data10[data10.release_year.isin([2012,2013,2014])] # Оставляем только фильмы только [2012 - 2014]гг.\n",
    "# data = data[(data.release_year <= 2014) & (data.release_year >= 2012)] этот вариант некорректный\n",
    "data10['loss'] = data10['budget'] - data10['revenue']  # Вычисляем убытки\n",
    "data10[data10.loss == data10.loss.max()].original_title.values[0]  # Находим фильм с максимальной величиной убытка"
   ]
  },
  {
   "cell_type": "markdown",
   "metadata": {
    "colab_type": "text",
    "id": "EA7Sa9dkVp_I"
   },
   "source": [
    "# 11. Какого жанра фильмов больше всего?"
   ]
  },
  {
   "cell_type": "code",
   "execution_count": 157,
   "metadata": {
    "colab": {},
    "colab_type": "code",
    "id": "zsJAwJ8QVp_J"
   },
   "outputs": [
    {
     "data": {
      "text/html": [
       "<div>\n",
       "<style scoped>\n",
       "    .dataframe tbody tr th:only-of-type {\n",
       "        vertical-align: middle;\n",
       "    }\n",
       "\n",
       "    .dataframe tbody tr th {\n",
       "        vertical-align: top;\n",
       "    }\n",
       "\n",
       "    .dataframe thead th {\n",
       "        text-align: right;\n",
       "    }\n",
       "</style>\n",
       "<table border=\"1\" class=\"dataframe\">\n",
       "  <thead>\n",
       "    <tr style=\"text-align: right;\">\n",
       "      <th></th>\n",
       "      <th>imdb_id</th>\n",
       "      <th>original_title</th>\n",
       "      <th>cast</th>\n",
       "      <th>director</th>\n",
       "      <th>tagline</th>\n",
       "      <th>overview</th>\n",
       "      <th>genres</th>\n",
       "      <th>production_companies</th>\n",
       "      <th>release_date</th>\n",
       "      <th>genres_list</th>\n",
       "    </tr>\n",
       "  </thead>\n",
       "  <tbody>\n",
       "    <tr>\n",
       "      <th>count</th>\n",
       "      <td>5107</td>\n",
       "      <td>5107</td>\n",
       "      <td>5107</td>\n",
       "      <td>5107</td>\n",
       "      <td>5107</td>\n",
       "      <td>5107</td>\n",
       "      <td>5107</td>\n",
       "      <td>5107</td>\n",
       "      <td>5107</td>\n",
       "      <td>5107</td>\n",
       "    </tr>\n",
       "    <tr>\n",
       "      <th>unique</th>\n",
       "      <td>1889</td>\n",
       "      <td>1887</td>\n",
       "      <td>1878</td>\n",
       "      <td>957</td>\n",
       "      <td>1880</td>\n",
       "      <td>1889</td>\n",
       "      <td>652</td>\n",
       "      <td>1624</td>\n",
       "      <td>1435</td>\n",
       "      <td>19</td>\n",
       "    </tr>\n",
       "    <tr>\n",
       "      <th>top</th>\n",
       "      <td>tt0413267</td>\n",
       "      <td>Fantastic Four</td>\n",
       "      <td>Mike Myers|Eddie Murphy|Cameron Diaz|Julie And...</td>\n",
       "      <td>Ridley Scott</td>\n",
       "      <td>Worlds Collide</td>\n",
       "      <td>An ordinary Lego mini-figure, mistakenly thoug...</td>\n",
       "      <td>Comedy</td>\n",
       "      <td>New Line Cinema</td>\n",
       "      <td>12/25/2014</td>\n",
       "      <td>Drama</td>\n",
       "    </tr>\n",
       "    <tr>\n",
       "      <th>freq</th>\n",
       "      <td>5</td>\n",
       "      <td>7</td>\n",
       "      <td>10</td>\n",
       "      <td>36</td>\n",
       "      <td>8</td>\n",
       "      <td>5</td>\n",
       "      <td>141</td>\n",
       "      <td>53</td>\n",
       "      <td>19</td>\n",
       "      <td>782</td>\n",
       "    </tr>\n",
       "  </tbody>\n",
       "</table>\n",
       "</div>"
      ],
      "text/plain": [
       "          imdb_id  original_title  \\\n",
       "count        5107            5107   \n",
       "unique       1889            1887   \n",
       "top     tt0413267  Fantastic Four   \n",
       "freq            5               7   \n",
       "\n",
       "                                                     cast      director  \\\n",
       "count                                                5107          5107   \n",
       "unique                                               1878           957   \n",
       "top     Mike Myers|Eddie Murphy|Cameron Diaz|Julie And...  Ridley Scott   \n",
       "freq                                                   10            36   \n",
       "\n",
       "               tagline                                           overview  \\\n",
       "count             5107                                               5107   \n",
       "unique            1880                                               1889   \n",
       "top     Worlds Collide  An ordinary Lego mini-figure, mistakenly thoug...   \n",
       "freq                 8                                                  5   \n",
       "\n",
       "        genres production_companies release_date genres_list  \n",
       "count     5107                 5107         5107        5107  \n",
       "unique     652                 1624         1435          19  \n",
       "top     Comedy      New Line Cinema   12/25/2014       Drama  \n",
       "freq       141                   53           19         782  "
      ]
     },
     "execution_count": 157,
     "metadata": {},
     "output_type": "execute_result"
    }
   ],
   "source": [
    "# эту задачу тоже можно решать разными подходами, попробуй реализовать разные варианты\n",
    "# если будешь добавлять функцию - выноси ее в предобработку что в начале\n",
    "data = pd.read_csv('movie_bd_v5.csv')\n",
    "data12 = data.copy()\n",
    "data12['genres_list'] = data12['genres'].str.split('|') # разделяем жанры, указанные в одном столбце\n",
    "data12 = data12.explode('genres_list') # формируем df с новым столбцом на основании получившихся отдельных жанров (коряво сформулировал))))\n",
    "data12.describe(include = ['object']) # В строке top указываются наиболее часто встречающиеся значения соответствующих стлобцов, \n",
    "#смотрим top/genres_list"
   ]
  },
  {
   "cell_type": "markdown",
   "metadata": {
    "colab_type": "text",
    "id": "Ax6g2C8SVp_M"
   },
   "source": [
    "ВАРИАНТ 2"
   ]
  },
  {
   "cell_type": "code",
   "execution_count": 292,
   "metadata": {
    "colab": {},
    "colab_type": "code",
    "id": "otO3SbrSVp_N"
   },
   "outputs": [
    {
     "data": {
      "text/plain": [
       "Drama        782\n",
       "Comedy       683\n",
       "Thriller     596\n",
       "Action       582\n",
       "Adventure    415\n",
       "Name: genres_list, dtype: int64"
      ]
     },
     "execution_count": 292,
     "metadata": {},
     "output_type": "execute_result"
    }
   ],
   "source": [
    "data = pd.read_csv('movie_bd_v5.csv')\n",
    "data12 = data.copy()\n",
    "data12['genres_list'] = data12['genres'].str.split('|')\n",
    "data12 = data12.explode('genres_list')\n",
    "data12_max = data12['genres_list'].value_counts(ascending=False)\n",
    "data12_max.head()"
   ]
  },
  {
   "cell_type": "markdown",
   "metadata": {
    "colab_type": "text",
    "id": "T9_bPWpkVp_Q"
   },
   "source": [
    "# 12. Фильмы какого жанра чаще всего становятся прибыльными? "
   ]
  },
  {
   "cell_type": "code",
   "execution_count": 300,
   "metadata": {
    "colab": {},
    "colab_type": "code",
    "id": "Tmt8MaK1Vp_R"
   },
   "outputs": [
    {
     "data": {
      "text/plain": [
       "Drama        560\n",
       "Comedy       551\n",
       "Thriller     446\n",
       "Action       444\n",
       "Adventure    337\n",
       "Name: genres_list, dtype: int64"
      ]
     },
     "execution_count": 300,
     "metadata": {},
     "output_type": "execute_result"
    }
   ],
   "source": [
    "# data = pd.read_csv('movie_bd_v5.csv')\n",
    "# data['profit'] = data['revenue'] - data['budget']  В ПРЕДОБРАБОТКЕ\n",
    "data12 = data.copy()\n",
    "data12['genres_list'] = data12['genres'].str.split('|') # разделяем жанры по одному\n",
    "data12 = data12.explode('genres_list')  # Новый df со сталбцом genres_list с разделенными жанрами\n",
    "data_profit = data12[(data12.profit > 0)] # оставляем только прибыльные фильмы\n",
    "data_profit['genres_list'].value_counts(ascending=False).head()  # Считаем число вхождений жанров по новому столбцу genres_list"
   ]
  },
  {
   "cell_type": "markdown",
   "metadata": {
    "colab_type": "text",
    "id": "0F23bgsDVp_U"
   },
   "source": [
    "# 13. У какого режиссера самые большие суммарные кассовые сборы?"
   ]
  },
  {
   "cell_type": "code",
   "execution_count": 305,
   "metadata": {
    "colab": {},
    "colab_type": "code",
    "id": "K6Z3J8ygVp_X"
   },
   "outputs": [
    {
     "data": {
      "text/plain": [
       "director\n",
       "Peter Jackson    6490593685\n",
       "Name: revenue, dtype: int64"
      ]
     },
     "execution_count": 305,
     "metadata": {},
     "output_type": "execute_result"
    }
   ],
   "source": [
    "data = pd.read_csv('movie_bd_v5.csv')\n",
    "data13 = data.copy()\n",
    "data13['director_list'] = data13['director'].str.split('|')\n",
    "data13 = data13.explode('director_list')\n",
    "# Далее группируем по режиссерам, суммируем их кассовые сборы, сортируем по убыванию сборов\n",
    "data13.groupby(['director'])['revenue'].sum().sort_values(ascending = False).head(1) "
   ]
  },
  {
   "cell_type": "markdown",
   "metadata": {
    "colab_type": "text",
    "id": "PsYC9FgRVp_a"
   },
   "source": [
    "# 14. Какой режисер снял больше всего фильмов в стиле Action?"
   ]
  },
  {
   "cell_type": "code",
   "execution_count": 306,
   "metadata": {
    "colab": {},
    "colab_type": "code",
    "id": "wd2M-wHeVp_b"
   },
   "outputs": [
    {
     "data": {
      "text/plain": [
       "Robert Rodriguez    9\n",
       "Michael Bay         7\n",
       "Name: director, dtype: int64"
      ]
     },
     "execution_count": 306,
     "metadata": {},
     "output_type": "execute_result"
    }
   ],
   "source": [
    "data = pd.read_csv('movie_bd_v5.csv')\n",
    "data14 = data.copy()\n",
    "data14 = data14[data14.genres.str.contains('Action')].copy() # Оставляем фильмы содержащие в жанре вариант 'Action'\n",
    "data14['director'] = data14['director'].str.split('|')\n",
    "data14 = only_action.explode('director')\n",
    "data14.director.value_counts().head(2)"
   ]
  },
  {
   "cell_type": "markdown",
   "metadata": {
    "colab_type": "text",
    "id": "PQ0KciD7Vp_f"
   },
   "source": [
    "# 15. Фильмы с каким актером принесли самые высокие кассовые сборы в 2012 году? "
   ]
  },
  {
   "cell_type": "code",
   "execution_count": 308,
   "metadata": {
    "colab": {},
    "colab_type": "code",
    "id": "aga62oeKVp_g"
   },
   "outputs": [
    {
     "data": {
      "text/plain": [
       "cast\n",
       "Chris Hemsworth    2027450773\n",
       "Denis Leary        1629460639\n",
       "Name: revenue, dtype: int64"
      ]
     },
     "execution_count": 308,
     "metadata": {},
     "output_type": "execute_result"
    }
   ],
   "source": [
    "data15 = data[(data.release_year == 2012)].copy()\n",
    "data15['cast'] = data15['cast'].str.split('|')\n",
    "data15 = data15.explode('cast')\n",
    "# Далее считаем группируем по актерам, сортируем по их суммарным сборам\n",
    "data15.groupby(['cast'])['revenue'].sum().sort_values(ascending = False).head(2)"
   ]
  },
  {
   "cell_type": "markdown",
   "metadata": {
    "colab_type": "text",
    "id": "mWHyyL7QVp_j"
   },
   "source": [
    "# 16. Какой актер снялся в большем количестве высокобюджетных фильмов?"
   ]
  },
  {
   "cell_type": "code",
   "execution_count": 310,
   "metadata": {
    "colab": {},
    "colab_type": "code",
    "id": "qQtmHKTFVp_k"
   },
   "outputs": [
    {
     "data": {
      "text/plain": [
       "'Matt Damon'"
      ]
     },
     "execution_count": 310,
     "metadata": {},
     "output_type": "execute_result"
    }
   ],
   "source": [
    "pd.Series(data[data.budget > data.budget.mean()].cast.str.split('|').sum()).value_counts().index[0] # !!! супер решение, но не мое)))"
   ]
  },
  {
   "cell_type": "markdown",
   "metadata": {
    "colab_type": "text",
    "id": "NIh6AaW5Vp_n"
   },
   "source": [
    "# 17. В фильмах какого жанра больше всего снимался Nicolas Cage? "
   ]
  },
  {
   "cell_type": "code",
   "execution_count": 311,
   "metadata": {
    "colab": {},
    "colab_type": "code",
    "id": "H74SJDIBVp_n"
   },
   "outputs": [
    {
     "data": {
      "text/plain": [
       "[('Action', 17)]"
      ]
     },
     "execution_count": 311,
     "metadata": {},
     "output_type": "execute_result"
    }
   ],
   "source": [
    "import collections\n",
    "data = pd.read_csv('movie_bd_v5.csv')\n",
    "nicolas = data[data.cast.str.contains('Nicolas Cage')]  # Оставляем только фильмы в составе с Nicolas Cage\n",
    "# Далее находим жанр в ктором чаще всего встречается Nicolas Cage\n",
    "collections.Counter(nicolas['genres'].str.cat(sep = '|').split('|')).most_common(1) "
   ]
  },
  {
   "cell_type": "markdown",
   "metadata": {
    "colab_type": "text",
    "id": "RqOmPRfWVp_q"
   },
   "source": [
    "# 18. Самый убыточный фильм от Paramount Pictures"
   ]
  },
  {
   "cell_type": "code",
   "execution_count": 312,
   "metadata": {
    "colab": {},
    "colab_type": "code",
    "id": "9E_B0Y96Vp_r"
   },
   "outputs": [
    {
     "data": {
      "text/plain": [
       "'K-19: The Widowmaker'"
      ]
     },
     "execution_count": 312,
     "metadata": {},
     "output_type": "execute_result"
    }
   ],
   "source": [
    "data18 = data.copy()\n",
    "data18['production_companies_list'] = data18['production_companies'].str.split('|')  # разделяем по студиям\n",
    "data18 = data18.explode('production_companies_list')\n",
    "only_Param_Pic = data18[(data18.production_companies_list == 'Paramount Pictures')].copy() # Оставляем только Paramount Pictures\n",
    "only_Param_Pic['profit'] = only_Param_Pic['revenue'] - only_Param_Pic['budget']\n",
    "# Далее находим фильм с наименьшей прибылью == самый убыточный\n",
    "only_Param_Pic[only_Param_Pic.profit == only_Param_Pic.profit.min()].original_title.values[0] "
   ]
  },
  {
   "cell_type": "markdown",
   "metadata": {
    "colab_type": "text",
    "id": "vS8Ur6ddVp_u"
   },
   "source": [
    "# 19. Какой год стал самым успешным по суммарным кассовым сборам?"
   ]
  },
  {
   "cell_type": "code",
   "execution_count": 314,
   "metadata": {
    "colab": {},
    "colab_type": "code",
    "id": "Dnbt4GdIVp_v"
   },
   "outputs": [
    {
     "data": {
      "text/plain": [
       "release_year\n",
       "2015    25449202382\n",
       "Name: revenue, dtype: int64"
      ]
     },
     "execution_count": 314,
     "metadata": {},
     "output_type": "execute_result"
    }
   ],
   "source": [
    "# Группируем по году, сортируем по суммам сборов по убыванию\n",
    "data_19 = data.groupby(['release_year'])['revenue'].sum().sort_values(ascending = False).head(1)\n",
    "data_19"
   ]
  },
  {
   "cell_type": "markdown",
   "metadata": {
    "colab_type": "text",
    "id": "JAzJh4QAVp_z"
   },
   "source": [
    "# 20. Какой самый прибыльный год для студии Warner Bros?"
   ]
  },
  {
   "cell_type": "code",
   "execution_count": 315,
   "metadata": {
    "colab": {},
    "colab_type": "code",
    "id": "wgVu02DEVp_0"
   },
   "outputs": [
    {
     "data": {
      "text/plain": [
       "release_year\n",
       "2014    11407212316\n",
       "2007     9808752478\n",
       "Name: profit, dtype: int64"
      ]
     },
     "execution_count": 315,
     "metadata": {},
     "output_type": "execute_result"
    }
   ],
   "source": [
    "data = pd.read_csv('movie_bd_v5.csv')\n",
    "data20 = data.copy()\n",
    "data20['production_companies_list'] = data20['production_companies'].str.split('|')\n",
    "data20 = data20.explode('production_companies_list')\n",
    "only_War_Bros = data20[data20['production_companies'].str.contains('Warner Bros.')].copy()\n",
    "only_War_Bros\n",
    "only_War_Bros['profit'] = only_War_Bros['revenue'] - only_War_Bros['budget']\n",
    "only_War_Bros_max = only_War_Bros.groupby(['release_year'])['profit'].sum().sort_values(ascending = False).head(2)\n",
    "only_War_Bros_max"
   ]
  },
  {
   "cell_type": "markdown",
   "metadata": {
    "colab_type": "text",
    "id": "8Im1S2HRVp_4"
   },
   "source": [
    "# 21. В каком месяце за все годы суммарно вышло больше всего фильмов?"
   ]
  },
  {
   "cell_type": "code",
   "execution_count": 203,
   "metadata": {
    "colab": {},
    "colab_type": "code",
    "id": "lev6TH7gVp_4"
   },
   "outputs": [
    {
     "name": "stdout",
     "output_type": "stream",
     "text": [
      "Сентябрь\n"
     ]
    }
   ],
   "source": [
    "import pandas as pd\n",
    "import collections\n",
    "data = pd.read_csv('movie_bd_v5.csv')\n",
    "data21 = data.copy()\n",
    "data21['release_date'] = data21['release_date'].apply(lambda x: x.split('/'))\n",
    "data21['month'] = data21['release_date'].apply(lambda x: int(x[0])) \n",
    "numbers_months =  data21.month.value_counts()\n",
    "months = {1:'Январь', 2:'Февраль', 3:'Март', 4:'Апрель', 5:'Май', 6:'Июнь', 7:'Июль', 8:'Август', 9:'Сентябрь', 10:'Октябрь', 11:'Ноябрь', 12:'Декабрь'}\n",
    "print(months[numbers_months.index[0]])"
   ]
  },
  {
   "cell_type": "markdown",
   "metadata": {
    "colab_type": "text",
    "id": "uAJsZ_NeVp_7"
   },
   "source": [
    "# 22. Сколько суммарно вышло фильмов летом? (за июнь, июль, август)"
   ]
  },
  {
   "cell_type": "code",
   "execution_count": 277,
   "metadata": {
    "colab": {},
    "colab_type": "code",
    "id": "Aa-hEREoVp_8"
   },
   "outputs": [
    {
     "name": "stdout",
     "output_type": "stream",
     "text": [
      "В летние месяцы суммарно вышло 450 фильмов.\n"
     ]
    }
   ],
   "source": [
    "data = pd.read_csv('movie_bd_v5.csv')\n",
    "data22 = data.copy()\n",
    "data22.release_date = data22.release_date.apply(lambda x: x.split('/'))\n",
    "data22['month'] = data22['release_date'].apply(lambda x: x[0])\n",
    "summer_film = data22.loc[data22['month'].isin(['6', '7', '8'])]\n",
    "print('В летние месяцы суммарно вышло', summer_film['original_title'].count(), 'фильмов.')"
   ]
  },
  {
   "cell_type": "markdown",
   "metadata": {
    "colab_type": "text",
    "id": "G94ppOY1VqAA"
   },
   "source": [
    "# 23. Для какого режиссера зима – самое продуктивное время года? "
   ]
  },
  {
   "cell_type": "code",
   "execution_count": 272,
   "metadata": {
    "colab": {},
    "colab_type": "code",
    "id": "RhNTsamuVqAB"
   },
   "outputs": [
    {
     "data": {
      "text/plain": [
       "director\n",
       "Peter Jackson    7\n",
       "Name: imdb_id, dtype: int64"
      ]
     },
     "execution_count": 272,
     "metadata": {},
     "output_type": "execute_result"
    }
   ],
   "source": [
    "import pandas as pd\n",
    "data = pd.read_csv('movie_bd_v5.csv')\n",
    "data.release_date = pd.to_datetime(data.release_date)  # Помощь менторов. РАЗОБРАТЬСЯ!\n",
    "winter_director = data.copy()\n",
    "winter_director['director'] = winter_director['director'].str.split('|')\n",
    "winter_director = winter_director.explode('director')\n",
    "winter_director_groupby = winter_director[winter_director.release_date.dt.month.isin([1,2,12])]  # Помощь менторов. РАЗОБРАТЬСЯ!\n",
    "winter_director_groupby.groupby('director')['imdb_id'].count().sort_values(ascending=False).head(1)\n",
    "# !!!!"
   ]
  },
  {
   "cell_type": "markdown",
   "metadata": {
    "colab_type": "text",
    "id": "RBo0JVjVVqAF"
   },
   "source": [
    "# 24. Какая студия дает самые длинные названия своим фильмам по количеству символов?"
   ]
  },
  {
   "cell_type": "code",
   "execution_count": 238,
   "metadata": {
    "colab": {},
    "colab_type": "code",
    "id": "QRGS8L0iVqAG"
   },
   "outputs": [
    {
     "data": {
      "text/html": [
       "<div>\n",
       "<style scoped>\n",
       "    .dataframe tbody tr th:only-of-type {\n",
       "        vertical-align: middle;\n",
       "    }\n",
       "\n",
       "    .dataframe tbody tr th {\n",
       "        vertical-align: top;\n",
       "    }\n",
       "\n",
       "    .dataframe thead th {\n",
       "        text-align: right;\n",
       "    }\n",
       "</style>\n",
       "<table border=\"1\" class=\"dataframe\">\n",
       "  <thead>\n",
       "    <tr style=\"text-align: right;\">\n",
       "      <th></th>\n",
       "      <th>imdb_id</th>\n",
       "      <th>budget</th>\n",
       "      <th>revenue</th>\n",
       "      <th>original_title</th>\n",
       "      <th>cast</th>\n",
       "      <th>director</th>\n",
       "      <th>tagline</th>\n",
       "      <th>overview</th>\n",
       "      <th>runtime</th>\n",
       "      <th>genres</th>\n",
       "      <th>production_companies</th>\n",
       "      <th>release_date</th>\n",
       "      <th>vote_average</th>\n",
       "      <th>release_year</th>\n",
       "      <th>title_len</th>\n",
       "    </tr>\n",
       "  </thead>\n",
       "  <tbody>\n",
       "    <tr>\n",
       "      <th>1448</th>\n",
       "      <td>tt0443453</td>\n",
       "      <td>18000000</td>\n",
       "      <td>261572744</td>\n",
       "      <td>Borat: Cultural Learnings of America for Make ...</td>\n",
       "      <td>Sacha Baron Cohen|Ken Davitian|Luenell|Pamela ...</td>\n",
       "      <td>Larry Charles</td>\n",
       "      <td>Come to Kazakhstan, it's nice!</td>\n",
       "      <td>Kazakh journalist Borat Sagdiyev travels to Am...</td>\n",
       "      <td>82</td>\n",
       "      <td>Comedy</td>\n",
       "      <td>Twentieth Century Fox Film Corporation</td>\n",
       "      <td>11/2/2006</td>\n",
       "      <td>6.4</td>\n",
       "      <td>2006</td>\n",
       "      <td>83</td>\n",
       "    </tr>\n",
       "    <tr>\n",
       "      <th>1448</th>\n",
       "      <td>tt0443453</td>\n",
       "      <td>18000000</td>\n",
       "      <td>261572744</td>\n",
       "      <td>Borat: Cultural Learnings of America for Make ...</td>\n",
       "      <td>Sacha Baron Cohen|Ken Davitian|Luenell|Pamela ...</td>\n",
       "      <td>Larry Charles</td>\n",
       "      <td>Come to Kazakhstan, it's nice!</td>\n",
       "      <td>Kazakh journalist Borat Sagdiyev travels to Am...</td>\n",
       "      <td>82</td>\n",
       "      <td>Comedy</td>\n",
       "      <td>Four By Two Productions</td>\n",
       "      <td>11/2/2006</td>\n",
       "      <td>6.4</td>\n",
       "      <td>2006</td>\n",
       "      <td>83</td>\n",
       "    </tr>\n",
       "  </tbody>\n",
       "</table>\n",
       "</div>"
      ],
      "text/plain": [
       "        imdb_id    budget    revenue  \\\n",
       "1448  tt0443453  18000000  261572744   \n",
       "1448  tt0443453  18000000  261572744   \n",
       "\n",
       "                                         original_title  \\\n",
       "1448  Borat: Cultural Learnings of America for Make ...   \n",
       "1448  Borat: Cultural Learnings of America for Make ...   \n",
       "\n",
       "                                                   cast       director  \\\n",
       "1448  Sacha Baron Cohen|Ken Davitian|Luenell|Pamela ...  Larry Charles   \n",
       "1448  Sacha Baron Cohen|Ken Davitian|Luenell|Pamela ...  Larry Charles   \n",
       "\n",
       "                             tagline  \\\n",
       "1448  Come to Kazakhstan, it's nice!   \n",
       "1448  Come to Kazakhstan, it's nice!   \n",
       "\n",
       "                                               overview  runtime  genres  \\\n",
       "1448  Kazakh journalist Borat Sagdiyev travels to Am...       82  Comedy   \n",
       "1448  Kazakh journalist Borat Sagdiyev travels to Am...       82  Comedy   \n",
       "\n",
       "                        production_companies release_date  vote_average  \\\n",
       "1448  Twentieth Century Fox Film Corporation    11/2/2006           6.4   \n",
       "1448                 Four By Two Productions    11/2/2006           6.4   \n",
       "\n",
       "      release_year  title_len  \n",
       "1448          2006         83  \n",
       "1448          2006         83  "
      ]
     },
     "execution_count": 238,
     "metadata": {},
     "output_type": "execute_result"
    }
   ],
   "source": [
    "data24 = data.copy()\n",
    "data24['production_companies'] = data24.production_companies.apply(lambda x:x.split('|'))\n",
    "data_prod_comp = data24.explode('production_companies')\n",
    "data_prod_comp['title_len'] = data_prod_comp['original_title'].apply(lambda x: len(x))\n",
    "data_prod_comp[data_prod_comp.title_len == data_prod_comp.title_len.max()]"
   ]
  },
  {
   "cell_type": "markdown",
   "metadata": {
    "colab_type": "text",
    "id": "9G0hbvR7VqAK"
   },
   "source": [
    "# 25. Описание фильмов какой студии в среднем самые длинные по количеству слов?"
   ]
  },
  {
   "cell_type": "code",
   "execution_count": 316,
   "metadata": {
    "colab": {},
    "colab_type": "code",
    "id": "Ge2GsLNxVqAK"
   },
   "outputs": [
    {
     "data": {
      "text/plain": [
       "production_companies\n",
       "Midnight Picture Show    175.0\n",
       "Name: overview_len, dtype: float64"
      ]
     },
     "execution_count": 316,
     "metadata": {},
     "output_type": "execute_result"
    }
   ],
   "source": [
    "data25 = data.copy()\n",
    "data25['production_companies'] = data25['production_companies'].apply(lambda x: x.split('|'))\n",
    "data25['overview_len'] = data25['overview'].apply(lambda x: x.split()).apply(len)\n",
    "data25 = data25.explode('production_companies').groupby('production_companies').overview_len.mean()\n",
    "data25[data25 == data25.max()]"
   ]
  },
  {
   "cell_type": "markdown",
   "metadata": {
    "colab_type": "text",
    "id": "FJ1AFt90VqAP"
   },
   "source": [
    "# 26. Какие фильмы входят в 1 процент лучших по рейтингу? \n",
    "по vote_average"
   ]
  },
  {
   "cell_type": "code",
   "execution_count": 319,
   "metadata": {},
   "outputs": [
    {
     "data": {
      "text/plain": [
       "9                                          Inside Out\n",
       "34                                               Room\n",
       "118                                      Interstellar\n",
       "119                           Guardians of the Galaxy\n",
       "125                                The Imitation Game\n",
       "128                                         Gone Girl\n",
       "138                          The Grand Budapest Hotel\n",
       "370                                         Inception\n",
       "599                                   The Dark Knight\n",
       "872                                       The Pianist\n",
       "1081    The Lord of the Rings: The Return of the King\n",
       "1183                          The Wolf of Wall Street\n",
       "1191                                 12 Years a Slave\n",
       "1800                                          Memento\n",
       "Name: original_title, dtype: object"
      ]
     },
     "execution_count": 319,
     "metadata": {},
     "output_type": "execute_result"
    }
   ],
   "source": [
    "data26 = data.copy()\n",
    "data_percentile = np.percentile(data26['vote_average'], 99)\n",
    "data26 = data26[data26['vote_average'] > data_percentile]\n",
    "data26['original_title']"
   ]
  },
  {
   "cell_type": "markdown",
   "metadata": {
    "colab_type": "text",
    "id": "MdXsUXbCVqAV"
   },
   "source": [
    "# 27. Какие актеры чаще всего снимаются в одном фильме вместе?\n"
   ]
  },
  {
   "cell_type": "code",
   "execution_count": 321,
   "metadata": {},
   "outputs": [
    {
     "data": {
      "text/plain": [
       "[(('Daniel Radcliffe', 'Rupert Grint'), 8)]"
      ]
     },
     "execution_count": 321,
     "metadata": {},
     "output_type": "execute_result"
    }
   ],
   "source": [
    "import collections\n",
    "data27 = data.copy()\n",
    "data27['cast'] = data27['cast'].apply(lambda x:x.split('|'))\n",
    "from itertools import combinations\n",
    "from collections import Counter\n",
    "data27['pairs'] = data27['cast'].apply(lambda s: list(combinations(s, 2)))\n",
    "data27 = data27.explode('pairs')\n",
    "collections.Counter(data27['pairs']).most_common(1)"
   ]
  },
  {
   "cell_type": "markdown",
   "metadata": {
    "colab_type": "text",
    "id": "4ymnxEVoVqAW"
   },
   "source": [
    "ВАРИАНТ 2"
   ]
  },
  {
   "cell_type": "markdown",
   "metadata": {
    "colab_type": "text",
    "id": "U0nONFnGVqAX"
   },
   "source": [
    "# Submission"
   ]
  },
  {
   "cell_type": "code",
   "execution_count": 322,
   "metadata": {
    "colab": {},
    "colab_type": "code",
    "id": "IfcaRO9-VqAX",
    "outputId": "0f132912-32bb-4196-c98c-abfbc4ad5a5f"
   },
   "outputs": [
    {
     "data": {
      "text/plain": [
       "{'1. Самый большой бюджет:': 'Pirates of the Caribbean: On Stranger Tides',\n",
       " '2. Самый длинный (в минутах) фильм:': 'Gods and Generals',\n",
       " '3. Самый короткий (в минутах) фильм:': 'Winnie the Pooh',\n",
       " '4. Средняя длительность фильмов (в минутах):': '110',\n",
       " '5. Медианное значение длительности фильмов(в минутах):': '107',\n",
       " '6. Самый прибыльный фильм:': 'Avatar',\n",
       " '7. Самый убыточный фильм:': 'The Lone Ranger',\n",
       " '8. У скольких фильмов из датасета объем сборов оказался выше бюджета?': '1478',\n",
       " '9. Какой фильм оказался самым кассовым в 2008 году?': 'The Dark Knight',\n",
       " '10. Самый убыточный фильм за период с 2012 по 2014 г. (включительно).': 'The Lone Ranger',\n",
       " '11. Какого жанра фильмов больше всего?': 'Drama',\n",
       " '12. Фильмы какого жанра чаще всего становятся прибыльными?': 'Drama',\n",
       " '13. У какого режиссера самые большие суммарные кассовые сборы?': 'Peter Jackson',\n",
       " '14. Какой режисер снял больше всего фильмов в стиле Action?': 'Robert Rodriguez',\n",
       " '15. Фильмы с каким актером принесли самые высокие кассовые сборы в 2012 году?': 'Chris Hemsworth',\n",
       " '16. Какой актер снялся в большем количестве высокобюджетных фильмов?': 'Matt Damon',\n",
       " '17. В фильмах какого жанра больше всего снимался Nicolas Cage?': 'Action',\n",
       " '18. Самый убыточный фильм от Paramount Pictures': 'K-19: The Widowmaker',\n",
       " '19. Какой год стал самым успешным по суммарным кассовым сборам?': '2015    25449202382',\n",
       " '20. Какой самый прибыльный год для студии Warner Bros?': '2014    11407212316',\n",
       " '21. В каком месяце за все годы суммарно вышло больше всего фильмов?': 'Сентябрь',\n",
       " '22. Сколько суммарно вышло фильмов летом? (за июнь, июль, август)': '450',\n",
       " '23. Для какого режиссера зима – самое продуктивное время года?': 'Peter Jackson ',\n",
       " '24. Какая студия дает самые длинные названия своим фильмам по количеству символов?': 'Four By Two Productions',\n",
       " '25. Описание фильмов какой студии в среднем самые длинные по количеству слов?': 'Midnight Picture Show',\n",
       " '26. Какие фильмы входят в 1 процент лучших по рейтингу?': 'Inside Out, The Dark Knight, 12 Years a Slave верно',\n",
       " '27. Какие актеры чаще всего снимаются в одном фильме вместе?': 'Daniel Radcliffe & Rupert Grint'}"
      ]
     },
     "execution_count": 322,
     "metadata": {},
     "output_type": "execute_result"
    }
   ],
   "source": [
    "# в конце можно посмотреть свои ответы к каждому вопросу\n",
    "answers"
   ]
  },
  {
   "cell_type": "code",
   "execution_count": 323,
   "metadata": {
    "colab": {},
    "colab_type": "code",
    "id": "SiRmHPl8VqAd"
   },
   "outputs": [
    {
     "data": {
      "text/plain": [
       "27"
      ]
     },
     "execution_count": 323,
     "metadata": {},
     "output_type": "execute_result"
    }
   ],
   "source": [
    "# и убедиться что ни чего не пропустил)\n",
    "len(answers)"
   ]
  },
  {
   "cell_type": "code",
   "execution_count": 0,
   "metadata": {
    "colab": {},
    "colab_type": "code",
    "id": "uCfuTkRbVqAg"
   },
   "outputs": [],
   "source": []
  },
  {
   "cell_type": "code",
   "execution_count": 0,
   "metadata": {
    "colab": {},
    "colab_type": "code",
    "id": "Vwx3NrkSVqAl"
   },
   "outputs": [],
   "source": []
  }
 ],
 "metadata": {
  "colab": {
   "name": "Copy of [SF-DST] Movies IMBD v4.1 TEMPLATE.ipynb",
   "provenance": []
  },
  "kernelspec": {
   "display_name": "Python 3",
   "language": "python",
   "name": "python3"
  },
  "language_info": {
   "codemirror_mode": {
    "name": "ipython",
    "version": 3
   },
   "file_extension": ".py",
   "mimetype": "text/x-python",
   "name": "python",
   "nbconvert_exporter": "python",
   "pygments_lexer": "ipython3",
   "version": "3.8.5"
  }
 },
 "nbformat": 4,
 "nbformat_minor": 1
}
